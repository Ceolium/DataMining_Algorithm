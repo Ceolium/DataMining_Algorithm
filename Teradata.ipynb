{
 "cells": [
  {
   "cell_type": "code",
   "execution_count": 3,
   "metadata": {},
   "outputs": [],
   "source": [
    "import numpy as np\n",
    "import pandas as pd\n",
    "\n",
    "data = pd.read_csv('./loan_data_track1.csv')"
   ]
  },
  {
   "cell_type": "code",
   "execution_count": 4,
   "metadata": {},
   "outputs": [
    {
     "data": {
      "text/plain": [
       "Index(['checking_status', 'duration', 'loan_history', 'purpose', 'loan_amount',\n",
       "       'savings_status', 'employment', 'installment_commitment',\n",
       "       'personal_status', 'other_parties', 'residence_since',\n",
       "       'property_magnitude', 'age', 'other_payment_plans', 'housing',\n",
       "       'existing_loans', 'job', 'num_dependents', 'own_telephone',\n",
       "       'foreign_worker', 'accepted'],\n",
       "      dtype='object')"
      ]
     },
     "execution_count": 4,
     "metadata": {},
     "output_type": "execute_result"
    }
   ],
   "source": [
    "data.columns"
   ]
  },
  {
   "cell_type": "code",
   "execution_count": 5,
   "metadata": {},
   "outputs": [],
   "source": [
    "# Replace label values from (2,1) to (1,0)\n",
    "data['accepted'] = data['accepted'] - 1"
   ]
  },
  {
   "cell_type": "code",
   "execution_count": 8,
   "metadata": {},
   "outputs": [
    {
     "data": {
      "text/plain": [
       "1    700\n",
       "0    300\n",
       "Name: accepted, dtype: int64"
      ]
     },
     "execution_count": 8,
     "metadata": {},
     "output_type": "execute_result"
    }
   ],
   "source": [
    "# Check the inbalance of labels\n",
    "data.accepted.value_counts()"
   ]
  },
  {
   "cell_type": "code",
   "execution_count": 7,
   "metadata": {},
   "outputs": [],
   "source": [
    "# Extracting integers from string \n",
    "data['existing_loans'] = data['existing_loans'].str.extract('(\\d+)').astype(int)\n",
    "\n",
    "# Choose major variables\n",
    "df = data[['age', 'checking_status','duration','loan_amount','installment_commitment']]\n",
    "\n",
    "# Get dummies for categorical variable\n",
    "dummy = pd.get_dummies(df['checking_status'])\n",
    "\n",
    "df = pd.concat([df,dummy], axis=1)\n",
    "\n",
    "df = df.drop('checking_status', axis=1)"
   ]
  },
  {
   "cell_type": "code",
   "execution_count": 36,
   "metadata": {},
   "outputs": [
    {
     "name": "stdout",
     "output_type": "stream",
     "text": [
      "F1 Score = Mean: 0.642099, Std: 0.079672\n"
     ]
    }
   ],
   "source": [
    "from sklearn.ensemble import RandomForestClassifier\n",
    "from sklearn.model_selection import cross_val_score\n",
    "from sklearn.metrics import f1_score, make_scorer, accuracy_score\n",
    "\n",
    "train_labels = np.array(data['accepted'])\n",
    "train_set = df\n",
    "train_set.columns = ['age','duration','loan_amount','installment_commitment','Mid','Low','High','None']\n",
    "\n",
    "# Train Random Forest Classifier as a baseline \n",
    "model = RandomForestClassifier(n_estimators=100, random_state=0)\n",
    "model.fit(train_set, train_labels)\n",
    "\n",
    "# Set performance metric to f1 score (instead of accuracy)\n",
    "scorer = make_scorer(f1_score, greater_is_better=True, average = 'macro')\n",
    "\n",
    "# Perform 10-fold cross validation and print mean and std of 10 f1 scores\n",
    "cv_score = cross_val_score(model, train_set, train_labels, cv = 10, scoring = scorer)\n",
    "print('F1 Score = Mean: %f, Std: %f' % (cv_score.mean() , cv_score.std()))"
   ]
  },
  {
   "cell_type": "code",
   "execution_count": 37,
   "metadata": {},
   "outputs": [
    {
     "data": {
      "text/html": [
       "<div>\n",
       "<style scoped>\n",
       "    .dataframe tbody tr th:only-of-type {\n",
       "        vertical-align: middle;\n",
       "    }\n",
       "\n",
       "    .dataframe tbody tr th {\n",
       "        vertical-align: top;\n",
       "    }\n",
       "\n",
       "    .dataframe thead th {\n",
       "        text-align: right;\n",
       "    }\n",
       "</style>\n",
       "<table border=\"1\" class=\"dataframe\">\n",
       "  <thead>\n",
       "    <tr style=\"text-align: right;\">\n",
       "      <th></th>\n",
       "      <th>feature</th>\n",
       "      <th>importance</th>\n",
       "    </tr>\n",
       "  </thead>\n",
       "  <tbody>\n",
       "    <tr>\n",
       "      <th>2</th>\n",
       "      <td>loan_amount</td>\n",
       "      <td>0.356470</td>\n",
       "    </tr>\n",
       "    <tr>\n",
       "      <th>0</th>\n",
       "      <td>age</td>\n",
       "      <td>0.260708</td>\n",
       "    </tr>\n",
       "    <tr>\n",
       "      <th>1</th>\n",
       "      <td>duration</td>\n",
       "      <td>0.176358</td>\n",
       "    </tr>\n",
       "    <tr>\n",
       "      <th>3</th>\n",
       "      <td>installment_commitment</td>\n",
       "      <td>0.068729</td>\n",
       "    </tr>\n",
       "    <tr>\n",
       "      <th>7</th>\n",
       "      <td>None</td>\n",
       "      <td>0.068027</td>\n",
       "    </tr>\n",
       "    <tr>\n",
       "      <th>5</th>\n",
       "      <td>Low</td>\n",
       "      <td>0.042153</td>\n",
       "    </tr>\n",
       "    <tr>\n",
       "      <th>4</th>\n",
       "      <td>Mid</td>\n",
       "      <td>0.018534</td>\n",
       "    </tr>\n",
       "    <tr>\n",
       "      <th>6</th>\n",
       "      <td>High</td>\n",
       "      <td>0.009022</td>\n",
       "    </tr>\n",
       "  </tbody>\n",
       "</table>\n",
       "</div>"
      ],
      "text/plain": [
       "                  feature  importance\n",
       "2             loan_amount    0.356470\n",
       "0                     age    0.260708\n",
       "1                duration    0.176358\n",
       "3  installment_commitment    0.068729\n",
       "7                    None    0.068027\n",
       "5                     Low    0.042153\n",
       "4                     Mid    0.018534\n",
       "6                    High    0.009022"
      ]
     },
     "execution_count": 37,
     "metadata": {},
     "output_type": "execute_result"
    }
   ],
   "source": [
    "# Check the importance of features\n",
    "feature = train_set.columns\n",
    "feature_imoportances = pd.DataFrame({'feature': feature, 'importance': model.feature_importances_})\n",
    "feature_imoportances.sort_values('importance', ascending=False)"
   ]
  },
  {
   "cell_type": "markdown",
   "metadata": {},
   "source": [
    "During Interview\n",
    "\n",
    "======================\n",
    "\n",
    "After Interview \n"
   ]
  },
  {
   "cell_type": "code",
   "execution_count": 56,
   "metadata": {},
   "outputs": [],
   "source": [
    "from sklearn.svm import LinearSVC\n",
    "from sklearn.naive_bayes import GaussianNB, BernoulliNB, MultinomialNB\n",
    "from sklearn.neural_network import MLPClassifier\n",
    "from sklearn.linear_model import LogisticRegressionCV, RidgeClassifierCV\n",
    "from sklearn.discriminant_analysis import LinearDiscriminantAnalysis\n",
    "from sklearn.neighbors import KNeighborsClassifier\n",
    "\n",
    "model_results = pd.DataFrame(columns = ['model', 'cv_mean', 'cv_std'])\n",
    "\n",
    "def cv_model(train, train_labels, model, name, model_results=None):\n",
    "    \"\"\"Perform 10 fold cross validation of a model\"\"\"\n",
    "    \n",
    "    cv_scores = cross_val_score(model, train, train_labels, cv = 10, scoring=scorer, n_jobs = -1)\n",
    "    print(name + f' 10 Fold CV Score: {round(cv_scores.mean(),4)} with std: {round(cv_scores.std(),4)}')\n",
    "    \n",
    "    if model_results is not None:\n",
    "        model_results = model_results.append(pd.DataFrame({'model': name, \n",
    "                                                           'cv_mean': cv_scores.mean(), \n",
    "                                                            'cv_std': cv_scores.std()},\n",
    "                                                           index = [0]),\n",
    "                                             ignore_index = True)\n",
    "\n",
    "        return model_results\n"
   ]
  },
  {
   "cell_type": "code",
   "execution_count": 57,
   "metadata": {},
   "outputs": [
    {
     "name": "stdout",
     "output_type": "stream",
     "text": [
      "LSVC 10 Fold CV Score: 0.4621 with std: 0.0712\n",
      "GNB 10 Fold CV Score: 0.6735 with std: 0.0486\n",
      "MLP 10 Fold CV Score: 0.4119 with std: 0.0789\n",
      "LDA 10 Fold CV Score: 0.6479 with std: 0.0518\n",
      "RIDGE 10 Fold CV Score: 0.6003 with std: 0.0693\n",
      "\n",
      "KNN with 5 neighbors\n",
      "\n",
      "knn-5 10 Fold CV Score: 0.5301 with std: 0.0335\n",
      "\n",
      "KNN with 10 neighbors\n",
      "\n",
      "knn-10 10 Fold CV Score: 0.5214 with std: 0.0583\n",
      "\n",
      "KNN with 20 neighbors\n",
      "\n",
      "knn-20 10 Fold CV Score: 0.4954 with std: 0.0492\n",
      "EXT 10 Fold CV Score: 0.6125 with std: 0.0698\n",
      "RF 10 Fold CV Score: 0.6345 with std: 0.0894\n"
     ]
    }
   ],
   "source": [
    "model_results = cv_model(train_set, train_labels, LinearSVC(),'LSVC', model_results)\n",
    "\n",
    "# Gaussian Naive Bayes Classifier is our current winner \n",
    "model_results = cv_model(train_set, train_labels, GaussianNB(priors=None, var_smoothing=1e-09), 'GNB', model_results)\n",
    "\n",
    "# As anticipated nonlinear model like multi-layer perceptron itself, shows inferior performance \n",
    "model_results = cv_model(train_set, train_labels, MLPClassifier(hidden_layer_sizes=(32, 64, 128, 64, 32)),\n",
    "                         'MLP', model_results)\n",
    "\n",
    "model_results = cv_model(train_set, train_labels, LinearDiscriminantAnalysis(),'LDA', model_results)\n",
    "model_results = cv_model(train_set, train_labels, RidgeClassifierCV(), 'RIDGE', model_results)\n",
    "\n",
    "for n in [5, 10, 20]:\n",
    "    print(f'\\nKNN with {n} neighbors\\n')\n",
    "    model_results = cv_model(train_set, train_labels, KNeighborsClassifier(n_neighbors = n), f'knn-{n}', model_results)\n",
    "\n",
    "model_results = cv_model(train_set, train_labels, ExtraTreesClassifier(n_estimators = 100, random_state = 10),\n",
    "                         'EXT', model_results)\n",
    "\n",
    "model_results = cv_model(train_set, train_labels,RandomForestClassifier(100, random_state=10),\n",
    "                         'RF', model_results)\n"
   ]
  },
  {
   "cell_type": "code",
   "execution_count": 58,
   "metadata": {},
   "outputs": [
    {
     "name": "stdout",
     "output_type": "stream",
     "text": [
      "XGB 10 Fold CV Score: 0.7007 with std: 0.057\n"
     ]
    }
   ],
   "source": [
    "# Now we try the XGBoost classifier \n",
    "# I manually tuned some hyperparameters a little\n",
    "from xgboost import XGBClassifier\n",
    "\n",
    "model_results = cv_model(train_set, train_labels,\n",
    "                          XGBClassifier(\n",
    "                               learning_rate =0.01,\n",
    "                               n_estimators=1000,\n",
    "                               max_depth=4,\n",
    "                               min_child_weight=1,\n",
    "                               gamma=0.1,\n",
    "                               subsample=0.6,\n",
    "                               colsample_bytree=0.8,\n",
    "                               objective= 'binary:logistic',\n",
    "                               scale_pos_weight=0.5,\n",
    "                               seed=10),\n",
    "                              'XGB', model_results)\n"
   ]
  },
  {
   "cell_type": "code",
   "execution_count": 59,
   "metadata": {},
   "outputs": [
    {
     "data": {
      "image/png": "[encoded data removed]",
      "text/plain": [
       "<Figure size 576x432 with 1 Axes>"
      ]
     },
     "metadata": {
      "needs_background": "light"
     },
     "output_type": "display_data"
    }
   ],
   "source": [
    "import matplotlib.pyplot as plt\n",
    "%matplotlib inline \n",
    "\n",
    "# Plot a graph comparing the model performance \n",
    "model_results.set_index('model', inplace = True)\n",
    "model_results['cv_mean'].plot.bar(color = 'brown', figsize = (8, 6),\n",
    "                                  yerr = list(model_results['cv_std']),\n",
    "                                  edgecolor = 'k', linewidth = 2)\n",
    "plt.title('Model F1 Score Results')\n",
    "plt.ylabel('Mean F1 Score (with error bar)')\n",
    "plt.xticks(rotation=60)\n",
    "model_results.reset_index(inplace = True)"
   ]
  },
  {
   "cell_type": "code",
   "execution_count": 60,
   "metadata": {},
   "outputs": [],
   "source": [
    "# Why not we use the rest of the features?\n",
    "# Also make dummies out of given categorical variable\n",
    "dummy1 = pd.get_dummies(data['personal_status'])\n",
    "dummy2 = pd.get_dummies(data['employment']) \n",
    "dummy3 = pd.get_dummies(data['housing'])\n",
    "dummy4 = pd.get_dummies(data['job'])\n",
    "df = pd.concat([df,dummy1,dummy2,dummy3,dummy4], axis=1)\n",
    "\n",
    "mapping1 = {'Yes':1, 'No':0}\n",
    "mapping2 = {'yes':1, 'no':0}\n",
    "\n",
    "additional = data[['residence_since','existing_loans','own_telephone','foreign_worker']]\n",
    "additional = additional.replace(mapping1)\n",
    "additional = additional.replace(mapping2)\n",
    "df = pd.concat([df, additional],axis=1)\n",
    "\n",
    "df.columns = ['age', 'duration', 'loan_amount', 'installment_commitment',\n",
    "       'Mid', 'Low', 'High', 'None',\n",
    "       'female_divorced/separated/married', 'male_divorced/separated',\n",
    "       'male_married/widowed', 'male_single', 'term2', 'term3', 'term1',\n",
    "       'term4', 'unemployed_A', 'for_free', 'own', 'rent',\n",
    "       'highly_qualified',\n",
    "       'skilled', 'unemployed',\n",
    "       'unskilled_resident', 'residence_since', 'existing_loans',\n",
    "       'own_telephone', 'foreign_worker']\n",
    "train_set = df"
   ]
  },
  {
   "cell_type": "code",
   "execution_count": 73,
   "metadata": {},
   "outputs": [
    {
     "data": {
      "text/plain": [
       "<matplotlib.axes._subplots.AxesSubplot at 0x110ee9940>"
      ]
     },
     "execution_count": 73,
     "metadata": {},
     "output_type": "execute_result"
    },
    {
     "data": {
      "image/png": "[encoded data removed]",
      "text/plain": [
       "<Figure size 432x288 with 2 Axes>"
      ]
     },
     "metadata": {
      "needs_background": "light"
     },
     "output_type": "display_data"
    }
   ],
   "source": [
    "import seaborn as sns\n",
    "\n",
    "threshold = 0.9\n",
    "\n",
    "# Create correlation matrix\n",
    "corr_matrix = data.corr()\n",
    "\n",
    "# Select upper triangle of correlation matrix\n",
    "upper = corr_matrix.where(np.triu(np.ones(corr_matrix.shape), k=1).astype(np.bool))\n",
    "\n",
    "# Find index of feature columns with correlation greater than 0.9\n",
    "to_drop = [column for column in upper.columns if any(abs(upper[column]) > threshold)]\n",
    "\n",
    "data = data.drop(columns = to_drop)\n",
    "\n",
    "# Show the correlation of each pair of featues\n",
    "sns.heatmap(corr_matrix,annot=True, cmap = plt.cm.YlGnBu, fmt='.3f')"
   ]
  },
  {
   "cell_type": "code",
   "execution_count": 75,
   "metadata": {},
   "outputs": [],
   "source": [
    "from sklearn.decomposition import PCA, FastICA\n",
    "from sklearn.manifold import TSNE\n",
    "\n",
    "n_components = 3\n",
    "\n",
    "# Make extra features with dimension reduction \n",
    "# This might not be a good idea for this dataset because there are not much redundancy within it \n",
    "pca = PCA(n_components=n_components)\n",
    "ica = FastICA(n_components=n_components)\n",
    "tsne = TSNE(n_components=n_components) \n",
    "train_df = train_set.copy()\n",
    "\n",
    "for method, name in zip([pca, ica, tsne], \n",
    "                        ['pca', 'ica', 'tsne']):\n",
    "    \n",
    "    # TSNE has no transform method\n",
    "    if name == 'tsne':\n",
    "        reduction = method.fit_transform(train_df)\n",
    "    \n",
    "    else:\n",
    "        reduction = method.fit_transform(train_df)\n",
    "        \n",
    "\n",
    "    # Add components to training data for visualization and modeling\n",
    "    train_df['%s_c1' % name] = reduction[:, 0]\n",
    "    train_df['%s_c2' % name] = reduction[:, 1]\n",
    "    train_df['%s_c3' % name] = reduction[:, 2]"
   ]
  },
  {
   "cell_type": "code",
   "execution_count": 77,
   "metadata": {},
   "outputs": [
    {
     "name": "stdout",
     "output_type": "stream",
     "text": [
      "XGB 10 Fold CV Score: 0.6753 with std: 0.0535\n"
     ]
    }
   ],
   "source": [
    "# The performance has become worse after putting more features \n",
    "model_results = cv_model(train_df, train_labels,\n",
    "                          XGBClassifier(\n",
    "                               learning_rate =0.01,\n",
    "                               n_estimators=1000,\n",
    "                               max_depth=4,\n",
    "                               min_child_weight=1,\n",
    "                               gamma=0.1,\n",
    "                               subsample=0.6,\n",
    "                               colsample_bytree=0.8,\n",
    "                               objective= 'binary:logistic',\n",
    "                               scale_pos_weight=0.5,\n",
    "                               seed=10),\n",
    "                              'XGB', model_results)\n"
   ]
  }
 ],
 "metadata": {
  "kernelspec": {
   "display_name": "Python 3",
   "language": "python",
   "name": "python3"
  },
  "language_info": {
   "codemirror_mode": {
    "name": "ipython",
    "version": 3
   },
   "file_extension": ".py",
   "mimetype": "text/x-python",
   "name": "python",
   "nbconvert_exporter": "python",
   "pygments_lexer": "ipython3",
   "version": "3.7.2"
  }
 },
 "nbformat": 4,
 "nbformat_minor": 2
}
